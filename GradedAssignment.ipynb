{
 "cells": [
  {
   "cell_type": "markdown",
   "id": "463d4cf2",
   "metadata": {},
   "source": [
    "# My Jupyter Notebook on IBM Watson Studio"
   ]
  },
  {
   "cell_type": "markdown",
   "id": "e68efb40",
   "metadata": {},
   "source": [
    "**Aditya Surve** Data Analyst"
   ]
  },
  {
   "cell_type": "markdown",
   "id": "52612de5",
   "metadata": {},
   "source": [
    "*I am interested in data science because i love data and want to utilize the powerful machines we have got today to get insights from data"
   ]
  },
  {
   "cell_type": "markdown",
   "id": "2f4b2a82",
   "metadata": {},
   "source": [
    "### This is a simple Addition Funtion"
   ]
  },
  {
   "cell_type": "code",
   "execution_count": 4,
   "id": "98697f2f",
   "metadata": {},
   "outputs": [
    {
     "name": "stdout",
     "output_type": "stream",
     "text": [
      "12\n"
     ]
    }
   ],
   "source": [
    "def add(a,b):\n",
    "    return a+b\n",
    "print(add(5,7))\n"
   ]
  },
  {
   "cell_type": "markdown",
   "id": "c46adf41",
   "metadata": {},
   "source": [
    "* one\n",
    "* two\n",
    "* three\n",
    "\n",
    "1. one\n",
    "2. two\n",
    "3. three\n",
    "\n",
    "~~This is a strikethrough~~\n",
    "\n",
    "[I'm a link](https://www.google.com)\n",
    "\n",
    "---\n",
    "\n"
   ]
  },
  {
   "cell_type": "code",
   "execution_count": null,
   "id": "69ac4fce",
   "metadata": {},
   "outputs": [],
   "source": []
  }
 ],
 "metadata": {
  "kernelspec": {
   "display_name": "Python 3 (ipykernel)",
   "language": "python",
   "name": "python3"
  },
  "language_info": {
   "codemirror_mode": {
    "name": "ipython",
    "version": 3
   },
   "file_extension": ".py",
   "mimetype": "text/x-python",
   "name": "python",
   "nbconvert_exporter": "python",
   "pygments_lexer": "ipython3",
   "version": "3.11.0"
  }
 },
 "nbformat": 4,
 "nbformat_minor": 5
}
